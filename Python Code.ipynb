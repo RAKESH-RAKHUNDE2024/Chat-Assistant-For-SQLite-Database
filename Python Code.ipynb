{
 "cells": [
  {
   "cell_type": "markdown",
   "id": "135bd216-4dc3-47c8-9c6f-89d330a1b9b0",
   "metadata": {},
   "source": [
    "<!-- Step 2: Develop the Chat Assistant in Python\n",
    "Now, you can build the chat assistant using Python. Here’s a breakdown of the components needed:\n",
    "\n",
    "1. Python Libraries:\n",
    "SQLite3 (for database interaction).\n",
    "Flask or FastAPI (for serving the chat assistant as a web app).\n",
    "NLTK or spaCy (optional, for natural language processing to convert queries into SQL).\n",
    "SQLAlchemy (optional, if you prefer working with ORM instead of raw SQL queries).\n",
    "2. Chat Assistant Logic:\n",
    "You will need to parse the user query to convert it into SQL queries and return appropriate responses. Here's an example of how you can approach it:\n",
    "\n",
    "Step 3: Handle Queries\n",
    "You need to design functions to handle the specific types of queries mentioned in the assignment. Here's how you might structure these:\n",
    "\n",
    "Query 1: \"Show me all employees in the [department] department.\"\n",
    "You can extract the department name from the query and form an SQL query: -->"
   ]
  },
  {
   "cell_type": "markdown",
   "id": "4af0476a-34ad-4868-aa3b-c317639c791c",
   "metadata": {},
   "source": [
    "##### 1) Database Schema & Setup:\n",
    "##### Create An SQLite Database With Two Tables, Employees And Departments.\n",
    "##### The Python Code To Generate And Populate The Database.\n",
    "\n",
    "##### Database Schema:-"
   ]
  },
  {
   "cell_type": "code",
   "execution_count": null,
   "id": "5613269f-17fb-40af-bce0-93c6dcb4213f",
   "metadata": {},
   "outputs": [],
   "source": []
  },
  {
   "cell_type": "code",
   "execution_count": null,
   "id": "af8ee431-2902-4529-b66f-644a186aeadf",
   "metadata": {},
   "outputs": [],
   "source": [
    "import sqlite3\n",
    "\n",
    "# Create Sqlite Database And Tables\n",
    "def create_db():\n",
    "    conn = sqlite3.connect('company.db')\n",
    "    cursor = conn.cursor()\n",
    "\n",
    "    # Create Employees Table\n",
    "    cursor.execute('''\n",
    "    CREATE TABLE IF NOT EXISTS Employees (\n",
    "        ID INTEGER PRIMARY KEY,\n",
    "        Name TEXT,\n",
    "        Department TEXT,\n",
    "        Salary INTEGER,\n",
    "        Hire_Date DATE\n",
    "    );\n",
    "    ''')\n",
    "\n",
    "    # Insert Data Into Employees Table\n",
    "    employees_data = [\n",
    "        (1, 'Alice', 'Sales', 50000, '2021-01-15'),\n",
    "        (2, 'Bob', 'Engineering', 70000, '2020-06-10'),\n",
    "        (3, 'Charlie', 'Marketing', 60000, '2022-03-20')\n",
    "    ]\n",
    "    cursor.executemany('''\n",
    "    INSERT INTO Employees (ID, Name, Department, Salary, Hire_Date) \n",
    "    VALUES (?, ?, ?, ?, ?)\n",
    "    ''', employees_data)\n",
    "\n",
    "    # Create Departments Table\n",
    "    cursor.execute('''\n",
    "    CREATE TABLE IF NOT EXISTS Departments (\n",
    "        ID INTEGER PRIMARY KEY,\n",
    "        Name TEXT,\n",
    "        Manager TEXT\n",
    "    );\n",
    "    ''')\n",
    "\n",
    "    # Insert Data Into Departments Table\n",
    "    departments_data = [\n",
    "        (1, 'Sales', 'Alice'),\n",
    "        (2, 'Engineering', 'Bob'),\n",
    "        (3, 'Marketing', 'Charlie')\n",
    "    ]\n",
    "    cursor.executemany('''\n",
    "    INSERT INTO Departments (ID, Name, Manager) \n",
    "    VALUES (?, ?, ?)\n",
    "    ''', departments_data)\n",
    "\n",
    "    conn.commit()\n",
    "    conn.close()\n",
    "\n",
    "# Call Function To Create DB\n",
    "create_db()"
   ]
  },
  {
   "cell_type": "code",
   "execution_count": null,
   "id": "3155850d-ed28-45ed-a717-8ee36fe854f6",
   "metadata": {},
   "outputs": [],
   "source": []
  },
  {
   "cell_type": "markdown",
   "id": "add4f6ee-4c03-4335-b897-c777caf73166",
   "metadata": {},
   "source": [
    "##### 2) Chat Assistant API Using Flask:\n",
    "#####  Create A Flask Application That Exposes An API For Querying The Database Based On Natural Language Input.\n",
    "\n",
    "#####  Flask Application Setup:\n",
    "#####  Install Flask:"
   ]
  },
  {
   "cell_type": "code",
   "execution_count": null,
   "id": "f651177d-5a48-47d4-a651-022038c3d0c0",
   "metadata": {},
   "outputs": [],
   "source": [
    "pip install flask"
   ]
  },
  {
   "cell_type": "code",
   "execution_count": null,
   "id": "32664efa-f162-48ec-a5c1-32e1d614ce76",
   "metadata": {},
   "outputs": [],
   "source": []
  },
  {
   "cell_type": "markdown",
   "id": "3bdc9d42-067e-4822-8cbd-6ef7a2b0fc86",
   "metadata": {},
   "source": [
    "#### Flask App Code:-"
   ]
  },
  {
   "cell_type": "code",
   "execution_count": null,
   "id": "d6ebc1f7-9dbb-48dd-9707-4de7813c6953",
   "metadata": {},
   "outputs": [],
   "source": [
    "from flask import Flask, request, jsonify\n",
    "import sqlite3\n",
    "import re\n",
    "\n",
    "app = Flask(__name__)\n",
    "\n",
    "# Function To Run SQL Queries\n",
    "def run_query(query, params):\n",
    "    conn = sqlite3.connect('company.db')\n",
    "    cursor = conn.cursor()\n",
    "    cursor.execute(query, params)\n",
    "    result = cursor.fetchall()\n",
    "    conn.close()\n",
    "    return result\n",
    "\n",
    "# Function To Interpret Queries:-\n",
    "def handle_query(user_query):\n",
    "\n",
    "\n",
    "    \n",
    "    # Query: Show All Employees In A Department-\n",
    "    match = re.match(r\"Show me all employees in the (.+) department\", user_query, re.IGNORECASE)\n",
    "    if match:\n",
    "        department = match.group(1)\n",
    "        query = \"SELECT Name FROM Employees WHERE Department = ?\"\n",
    "        results = run_query(query, (department,))\n",
    "        if results:\n",
    "            return f\"Employees in {department} department: \" + \", \".join([r[0] for r in results])\n",
    "        else:\n",
    "            return f\"No employees found in the {department} department.\"\n",
    "\n",
    "\n",
    "\n",
    "    \n",
    "    # Query: Who Is The Manager Of A Department:-\n",
    "    match = re.match(r\"Who is the manager of the (.+) department\", user_query, re.IGNORECASE)\n",
    "    if match:\n",
    "        department = match.group(1)\n",
    "        query = \"SELECT Manager FROM Departments WHERE Name = ?\"\n",
    "        results = run_query(query, (department,))\n",
    "        if results:\n",
    "            return f\"The manager of {department} department is {results[0][0]}.\"\n",
    "        else:\n",
    "            return f\"Sorry, the {department} department does not exist.\"\n",
    "\n",
    "\n",
    "\n",
    "    \n",
    "    # Query: List All Employees Hired After A Specific Date:-\n",
    "    match = re.match(r\"List all employees hired after (\\d{4}-\\d{2}-\\d{2})\", user_query)\n",
    "    if match:\n",
    "        hire_date = match.group(1)\n",
    "        query = \"SELECT Name FROM Employees WHERE Hire_Date > ?\"\n",
    "        results = run_query(query, (hire_date,))\n",
    "        if results:\n",
    "            return f\"Employees hired after {hire_date}: \" + \", \".join([r[0] for r in results])\n",
    "        else:\n",
    "            return f\"No employees found hired after {hire_date}.\"\n",
    "\n",
    "\n",
    "\n",
    "    \n",
    "    # Query: Total Salary Expense For A Department:-\n",
    "    match = re.match(r\"What is the total salary expense for the (.+) department\", user_query, re.IGNORECASE)\n",
    "    if match:\n",
    "        department = match.group(1)\n",
    "        query = \"SELECT SUM(Salary) FROM Employees WHERE Department = ?\"\n",
    "        results = run_query(query, (department,))\n",
    "        if results and results[0][0]:\n",
    "            return f\"The total salary expense for the {department} department is {results[0][0]}.\"\n",
    "        else:\n",
    "            return f\"No salary data found for the {department} department.\"\n",
    "\n",
    "    return \"Sorry, I didn't understand that. Could you rephrase?\"\n",
    "\n",
    "\n",
    "\n",
    "\n",
    "# Endpoint For The User Query\n",
    "@app.route('/ask', methods=['POST'])\n",
    "def ask():\n",
    "    user_query = request.json.get('query')\n",
    "    if not user_query:\n",
    "        return jsonify({\"response\": \"No query provided.\"})\n",
    "    response = handle_query(user_query)\n",
    "    return jsonify({\"response\": response})\n",
    "\n",
    "if __name__ == '__main__':\n",
    "    app.run(debug=True)"
   ]
  },
  {
   "cell_type": "code",
   "execution_count": null,
   "id": "0c62eccb-381f-4f27-ac8f-4b98620846c3",
   "metadata": {},
   "outputs": [],
   "source": []
  },
  {
   "cell_type": "markdown",
   "id": "546684a3-8a56-4625-a75f-ea67aa1150d9",
   "metadata": {},
   "source": [
    "#### 3) Error Handling:-\n",
    "##### The Chat Assistant Includes Basic Error Handling To Ensure:\n",
    "\n",
    "##### Invalid Queries:-  If A Query Doesn't Match Any Recognized Patterns, The Assistant Will Respond With \"Sorry, I Didn't Understand That. Could You Rephrase?\"\n",
    "##### No Results Found:-  If No Employees Are Found In A Department Or If A Department Does Not Exist, The Assistant Will Return A Clear Message Such As \"No Results Found For The [query].\"\n",
    "##### Invalid Input:- Incorrect Formats (Like An Invalid Date Format) Are Handled Gracefully, Prompting The User To Correct Their Input."
   ]
  },
  {
   "cell_type": "markdown",
   "id": "bf40b53f-7b2a-4a91-b7c1-9eaf4ca20072",
   "metadata": {},
   "source": []
  },
  {
   "cell_type": "markdown",
   "id": "2e8e2804-95c8-4d7b-a8d4-f3e3a1d9e01c",
   "metadata": {},
   "source": [
    "#### 4) Deployment:-\n",
    "##### Deploy The Flask App On Platforms Like Heroku, Pythonanywhere, Or Aws. Here's A Simple Guide For Deploying On Heroku:\n",
    "\n",
    "##### A) Create A Requirements.txt File:- -->"
   ]
  },
  {
   "cell_type": "code",
   "execution_count": null,
   "id": "ddd338c4-228e-4bb7-a11a-b7913a19500e",
   "metadata": {},
   "outputs": [],
   "source": [
    "Flask==2.0.1"
   ]
  },
  {
   "cell_type": "markdown",
   "id": "f643ec5c-1e19-4346-a4ab-c0132172cd2d",
   "metadata": {},
   "source": [
    "##### B) Create a Procfile:-"
   ]
  },
  {
   "cell_type": "code",
   "execution_count": null,
   "id": "b4185801-3a7c-48f6-893e-562e07d41125",
   "metadata": {},
   "outputs": [],
   "source": [
    "web: python app.py"
   ]
  },
  {
   "cell_type": "code",
   "execution_count": null,
   "id": "6ba06126-d6eb-4985-8867-b41224415623",
   "metadata": {},
   "outputs": [],
   "source": []
  },
  {
   "cell_type": "markdown",
   "id": "f26041b2-c6b6-4958-b14c-8749e1e4844b",
   "metadata": {},
   "source": [
    "#### 4) Conclusion:-\n",
    "##### This Python-Based Chat Assistant Is Capable Of Querying An SQLite Database Using Flask And Providing Meaningful, User-Friendly Responses. \n",
    "##### It Handles Errors Gracefully And Provides Clear Output For All Supported Queries. \n",
    "##### The Project Is Ready To Be Deployed, And It Can Be Easily Tested By Interacting With The API."
   ]
  },
  {
   "cell_type": "code",
   "execution_count": null,
   "id": "b10ce577-bce9-4ebc-b370-1c3422629ae0",
   "metadata": {},
   "outputs": [],
   "source": []
  }
 ],
 "metadata": {
  "kernelspec": {
   "display_name": "Python 3 (ipykernel)",
   "language": "python",
   "name": "python3"
  },
  "language_info": {
   "codemirror_mode": {
    "name": "ipython",
    "version": 3
   },
   "file_extension": ".py",
   "mimetype": "text/x-python",
   "name": "python",
   "nbconvert_exporter": "python",
   "pygments_lexer": "ipython3",
   "version": "3.11.7"
  }
 },
 "nbformat": 4,
 "nbformat_minor": 5
}
